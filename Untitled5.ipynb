{
  "nbformat": 4,
  "nbformat_minor": 0,
  "metadata": {
    "colab": {
      "provenance": [],
      "authorship_tag": "ABX9TyMchO04YlvnO7JyD7PQZFPg",
      "include_colab_link": true
    },
    "kernelspec": {
      "name": "python3",
      "display_name": "Python 3"
    },
    "language_info": {
      "name": "python"
    }
  },
  "cells": [
    {
      "cell_type": "markdown",
      "metadata": {
        "id": "view-in-github",
        "colab_type": "text"
      },
      "source": [
        "<a href=\"https://colab.research.google.com/github/rashi789/rashi/blob/main/Untitled5.ipynb\" target=\"_parent\"><img src=\"https://colab.research.google.com/assets/colab-badge.svg\" alt=\"Open In Colab\"/></a>"
      ]
    },
    {
      "cell_type": "code",
      "execution_count": 7,
      "metadata": {
        "colab": {
          "base_uri": "https://localhost:8080/"
        },
        "id": "rK4-sWdN_E2H",
        "outputId": "8f9f3ae4-ac23-4ca3-c114-5c4f8be86710"
      },
      "outputs": [
        {
          "output_type": "stream",
          "name": "stdout",
          "text": [
            "50\n"
          ]
        }
      ],
      "source": [
        "def add (a,b):\n",
        "  c=(a+b)\n",
        "  print(c)\n",
        "add (20,30)"
      ]
    },
    {
      "cell_type": "code",
      "source": [
        "def sub (a,b):\n",
        "  c=(a-b)\n",
        "  print(c)\n",
        "sub (40,20)"
      ],
      "metadata": {
        "colab": {
          "base_uri": "https://localhost:8080/"
        },
        "id": "7-0ayhzLDa1u",
        "outputId": "5fe9cc5c-f470-405e-9d7c-ae027b05bf30"
      },
      "execution_count": 9,
      "outputs": [
        {
          "output_type": "stream",
          "name": "stdout",
          "text": [
            "20\n"
          ]
        }
      ]
    },
    {
      "cell_type": "code",
      "source": [
        "def add(*arg):\n",
        "  length=len(arg)\n",
        "  print(arg[length-1])\n",
        "add(10,20,30,40,50,60)\n",
        "add(10,20,30,40,50)\n",
        "add(10,20,30,40)\n",
        "add(10,20,30)\n",
        "add(10,20)\n",
        "add(10)\n"
      ],
      "metadata": {
        "colab": {
          "base_uri": "https://localhost:8080/"
        },
        "id": "zkvAvAjfEsn2",
        "outputId": "d59b1a7a-7072-4cff-ec90-1224e9953413"
      },
      "execution_count": 15,
      "outputs": [
        {
          "output_type": "stream",
          "name": "stdout",
          "text": [
            "60\n",
            "50\n",
            "40\n",
            "30\n",
            "20\n",
            "10\n"
          ]
        }
      ]
    },
    {
      "cell_type": "code",
      "source": [
        "a=int(input(\"enter the number\"))\n",
        "b=int(input(\"enter the number\"))\n",
        "def add(a,b):\n",
        "  return(a+b)\n",
        "print(\"sum of number\",add(a,b))\n",
        ""
      ],
      "metadata": {
        "colab": {
          "base_uri": "https://localhost:8080/"
        },
        "id": "ZX0mBtlrHvVC",
        "outputId": "aaa13f60-9178-4c4c-d4cd-33faffa0769d"
      },
      "execution_count": 16,
      "outputs": [
        {
          "output_type": "stream",
          "name": "stdout",
          "text": [
            "enter the number4\n",
            "enter the number6\n",
            "sum of number 10\n"
          ]
        }
      ]
    },
    {
      "cell_type": "code",
      "source": [],
      "metadata": {
        "id": "Obe6w3HyOlX3"
      },
      "execution_count": null,
      "outputs": []
    },
    {
      "cell_type": "code",
      "source": [
        "i=int(input(\"enter number\"))\n",
        "rev=0\n",
        "while(i>0):\n",
        "  rev=(rev*10)+i%10\n",
        "  i=i//10\n",
        "  print(\"reverse=\",rev)"
      ],
      "metadata": {
        "colab": {
          "base_uri": "https://localhost:8080/"
        },
        "id": "RN0HF1pnNfCn",
        "outputId": "32d68a49-9b9c-4349-9e5b-be22816e8fe7"
      },
      "execution_count": 19,
      "outputs": [
        {
          "output_type": "stream",
          "name": "stdout",
          "text": [
            "enter number6\n",
            "reverse= 6\n"
          ]
        }
      ]
    },
    {
      "cell_type": "code",
      "source": [
        "a=int(input(\"enter the number\"))\n",
        "b=int(input(\"enter the number\"))\n",
        "def div(a,b):\n",
        "    return(a/b)\n",
        "print(\"div of number\",div(a,b))"
      ],
      "metadata": {
        "colab": {
          "base_uri": "https://localhost:8080/"
        },
        "id": "GNnG0D11O2a_",
        "outputId": "1df6c653-3159-427d-aa5a-116849b10913"
      },
      "execution_count": 25,
      "outputs": [
        {
          "output_type": "stream",
          "name": "stdout",
          "text": [
            "enter the number10\n",
            "enter the number2\n",
            "div of number 5.0\n"
          ]
        }
      ]
    },
    {
      "cell_type": "code",
      "source": [
        "a=int(input(\"enter the number\"))\n",
        "b=int(input(\"enter the number\"))\n",
        "def mul(a,b):\n",
        "    return(a*b)\n",
        "print(\"mul of number\",mul(a,b))\n"
      ],
      "metadata": {
        "colab": {
          "base_uri": "https://localhost:8080/"
        },
        "id": "4BHwicjWQjpN",
        "outputId": "922cf323-398f-4ce9-8d7d-e9d7cf220d23"
      },
      "execution_count": 27,
      "outputs": [
        {
          "output_type": "stream",
          "name": "stdout",
          "text": [
            "enter the number4\n",
            "enter the number7\n",
            "mul of number 28\n"
          ]
        }
      ]
    }
  ]
}