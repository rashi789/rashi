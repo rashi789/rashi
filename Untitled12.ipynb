{
  "nbformat": 4,
  "nbformat_minor": 0,
  "metadata": {
    "colab": {
      "provenance": [],
      "authorship_tag": "ABX9TyNnnBnh6A7++N00xwXODnoJ",
      "include_colab_link": true
    },
    "kernelspec": {
      "name": "python3",
      "display_name": "Python 3"
    },
    "language_info": {
      "name": "python"
    }
  },
  "cells": [
    {
      "cell_type": "markdown",
      "metadata": {
        "id": "view-in-github",
        "colab_type": "text"
      },
      "source": [
        "<a href=\"https://colab.research.google.com/github/rashi789/rashi/blob/main/Untitled12.ipynb\" target=\"_parent\"><img src=\"https://colab.research.google.com/assets/colab-badge.svg\" alt=\"Open In Colab\"/></a>"
      ]
    },
    {
      "cell_type": "code",
      "execution_count": 1,
      "metadata": {
        "colab": {
          "base_uri": "https://localhost:8080/"
        },
        "id": "UYLtppPTxaQL",
        "outputId": "712d833f-ceb8-4a41-e079-bb53a20905b0"
      },
      "outputs": [
        {
          "output_type": "stream",
          "name": "stdout",
          "text": [
            "{'ritik', 'priya', 'anuj'}\n"
          ]
        }
      ],
      "source": [
        "set={\"priya\",\"anuj\"}\n",
        "set.add(\"ritik\")\n",
        "print(set)\n"
      ]
    },
    {
      "cell_type": "code",
      "source": [
        "set={\"rashi\",\"jain\"}\n",
        "print(type(set))\n"
      ],
      "metadata": {
        "colab": {
          "base_uri": "https://localhost:8080/"
        },
        "id": "gnQ9cb7myqbl",
        "outputId": "1301fc7c-bf62-401d-94b8-b70e1aa5feb7"
      },
      "execution_count": 3,
      "outputs": [
        {
          "output_type": "stream",
          "name": "stdout",
          "text": [
            "<class 'set'>\n"
          ]
        }
      ]
    },
    {
      "cell_type": "code",
      "source": [
        "set={\"anuj\",\"harsh\"}\n",
        "set1={\"anu\",\"shree\"}\n",
        "set.update(set1)\n",
        "print(set)\n"
      ],
      "metadata": {
        "colab": {
          "base_uri": "https://localhost:8080/"
        },
        "id": "9gn3fK3j0I6C",
        "outputId": "f1f85e01-d695-4dad-906c-9567ddefbc94"
      },
      "execution_count": 13,
      "outputs": [
        {
          "output_type": "stream",
          "name": "stdout",
          "text": [
            "{'shree', 'anu', 'harsh', 'anuj'}\n"
          ]
        }
      ]
    },
    {
      "cell_type": "code",
      "source": [
        "set={\"sid\",\"ki\"}\n",
        "set1={\"jiya\",\"siya\"}\n",
        "set.discard(set1)\n",
        "print(set)"
      ],
      "metadata": {
        "colab": {
          "base_uri": "https://localhost:8080/"
        },
        "id": "V53Gz0vc2ZnO",
        "outputId": "9a222fbd-f0c6-4d0a-be2e-a3d6d1295a7b"
      },
      "execution_count": 17,
      "outputs": [
        {
          "output_type": "stream",
          "name": "stdout",
          "text": [
            "{'sid', 'ki'}\n"
          ]
        }
      ]
    },
    {
      "cell_type": "code",
      "source": [
        "set={\"sonu\",\"jyoti\"}\n",
        "set1={\"priya\",\"arju\"}\n",
        "set.intersection_update(set1)\n",
        "print(set)\n"
      ],
      "metadata": {
        "colab": {
          "base_uri": "https://localhost:8080/"
        },
        "id": "Sm7xshC83Hs_",
        "outputId": "6f31d93b-3e7f-4671-8f9e-3b61f828eb55"
      },
      "execution_count": 20,
      "outputs": [
        {
          "output_type": "stream",
          "name": "stdout",
          "text": [
            "set()\n"
          ]
        }
      ]
    },
    {
      "cell_type": "code",
      "source": [
        "set = {\"priya\",\"raj\",\"anu\"}\n",
        "set1 = set.pop()\n",
        "print(set1)\n",
        "print(set)"
      ],
      "metadata": {
        "colab": {
          "base_uri": "https://localhost:8080/"
        },
        "id": "3fDhW9ZT46G4",
        "outputId": "a78d2c59-49d8-4911-fd4a-05346cdecf1c"
      },
      "execution_count": 28,
      "outputs": [
        {
          "output_type": "stream",
          "name": "stdout",
          "text": [
            "raj\n",
            "{'anu', 'priya'}\n"
          ]
        }
      ]
    }
  ]
}