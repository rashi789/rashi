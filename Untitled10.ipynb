{
  "nbformat": 4,
  "nbformat_minor": 0,
  "metadata": {
    "colab": {
      "provenance": [],
      "authorship_tag": "ABX9TyPrRSYDdY+4LIxEV6DLRpRS",
      "include_colab_link": true
    },
    "kernelspec": {
      "name": "python3",
      "display_name": "Python 3"
    },
    "language_info": {
      "name": "python"
    }
  },
  "cells": [
    {
      "cell_type": "markdown",
      "metadata": {
        "id": "view-in-github",
        "colab_type": "text"
      },
      "source": [
        "<a href=\"https://colab.research.google.com/github/rashi789/rashi/blob/main/Untitled10.ipynb\" target=\"_parent\"><img src=\"https://colab.research.google.com/assets/colab-badge.svg\" alt=\"Open In Colab\"/></a>"
      ]
    },
    {
      "cell_type": "code",
      "execution_count": 2,
      "metadata": {
        "colab": {
          "base_uri": "https://localhost:8080/"
        },
        "id": "9Z4qQuQqAGUq",
        "outputId": "c21f465a-d9d2-4507-cb3e-daf64b61f295"
      },
      "outputs": [
        {
          "output_type": "stream",
          "name": "stdout",
          "text": [
            "['my', 'name', 'is', 'list']\n"
          ]
        }
      ],
      "source": [
        "a=list((\"my\",\"name\",\"is\"))\n",
        "a.append(\"list\")\n",
        "print(a)"
      ]
    },
    {
      "cell_type": "code",
      "source": [
        "a=list((\"my\",\"name\",\"is\"))\n",
        "a.insert(1,\"list\")\n",
        "print(a)\n",
        "if\"name\"in a:\n",
        "  print(\"name find in a\")"
      ],
      "metadata": {
        "colab": {
          "base_uri": "https://localhost:8080/"
        },
        "id": "zS4g4nM_GQPF",
        "outputId": "82717071-88fa-4e3e-9bfd-4d73005c1e6d"
      },
      "execution_count": 3,
      "outputs": [
        {
          "output_type": "stream",
          "name": "stdout",
          "text": [
            "['my', 'list', 'name', 'is']\n",
            "name find in a\n"
          ]
        }
      ]
    },
    {
      "cell_type": "code",
      "source": [
        "a=list((\"apple,\",))\n",
        "b=list((\"is\",\"apple,\"))\n",
        "a.extend (b)\n",
        "print(a)"
      ],
      "metadata": {
        "colab": {
          "base_uri": "https://localhost:8080/"
        },
        "id": "GJoa-lGqJiGH",
        "outputId": "169c1b64-53f2-4394-cad2-b84db3497be8"
      },
      "execution_count": 10,
      "outputs": [
        {
          "output_type": "stream",
          "name": "stdout",
          "text": [
            "['apple,', 'is', 'apple,']\n"
          ]
        }
      ]
    },
    {
      "cell_type": "code",
      "source": [],
      "metadata": {
        "id": "RMaJN2tdH_ai"
      },
      "execution_count": null,
      "outputs": []
    }
  ]
}