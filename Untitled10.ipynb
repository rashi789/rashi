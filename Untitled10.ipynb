{
  "nbformat": 4,
  "nbformat_minor": 0,
  "metadata": {
    "colab": {
      "provenance": [],
      "authorship_tag": "ABX9TyPRWz2NKmQuhDEacpbabZjy",
      "include_colab_link": true
    },
    "kernelspec": {
      "name": "python3",
      "display_name": "Python 3"
    },
    "language_info": {
      "name": "python"
    }
  },
  "cells": [
    {
      "cell_type": "markdown",
      "metadata": {
        "id": "view-in-github",
        "colab_type": "text"
      },
      "source": [
        "<a href=\"https://colab.research.google.com/github/rashi789/rashi/blob/main/Untitled10.ipynb\" target=\"_parent\"><img src=\"https://colab.research.google.com/assets/colab-badge.svg\" alt=\"Open In Colab\"/></a>"
      ]
    },
    {
      "cell_type": "code",
      "execution_count": null,
      "metadata": {
        "id": "9Z4qQuQqAGUq"
      },
      "outputs": [],
      "source": [
        "a=list \"my\" \"name\" \"is\" \"rashi\"\n",
        "\n",
        "\n",
        "print"
      ]
    },
    {
      "cell_type": "code",
      "source": [
        "a=list(\" \")"
      ],
      "metadata": {
        "id": "zS4g4nM_GQPF"
      },
      "execution_count": null,
      "outputs": []
    }
  ]
}