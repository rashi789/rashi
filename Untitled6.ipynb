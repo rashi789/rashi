{
  "nbformat": 4,
  "nbformat_minor": 0,
  "metadata": {
    "colab": {
      "provenance": [],
      "authorship_tag": "ABX9TyNJn8MX4AOIh/9XscJJR8xK",
      "include_colab_link": true
    },
    "kernelspec": {
      "name": "python3",
      "display_name": "Python 3"
    },
    "language_info": {
      "name": "python"
    }
  },
  "cells": [
    {
      "cell_type": "markdown",
      "metadata": {
        "id": "view-in-github",
        "colab_type": "text"
      },
      "source": [
        "<a href=\"https://colab.research.google.com/github/rashi789/rashi/blob/main/Untitled6.ipynb\" target=\"_parent\"><img src=\"https://colab.research.google.com/assets/colab-badge.svg\" alt=\"Open In Colab\"/></a>"
      ]
    },
    {
      "cell_type": "code",
      "execution_count": 11,
      "metadata": {
        "colab": {
          "base_uri": "https://localhost:8080/"
        },
        "id": "XJgsgiccJBHx",
        "outputId": "4de69ced-7621-4799-fb88-7e933c1e7b4d"
      },
      "outputs": [
        {
          "output_type": "stream",
          "name": "stdout",
          "text": [
            " ihsar\n"
          ]
        }
      ],
      "source": [
        "str=\"rashi\"\n",
        "str1=\" \"\n",
        "x=len(str)\n",
        "while x>-0:\n",
        "  x=x-1\n",
        "  str1+=str[x]\n",
        "print(str1)\n"
      ]
    }
  ]
}