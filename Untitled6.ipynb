{
  "nbformat": 4,
  "nbformat_minor": 0,
  "metadata": {
    "colab": {
      "provenance": [],
      "authorship_tag": "ABX9TyOt3tzw4cwgr0OUefsYVXtR",
      "include_colab_link": true
    },
    "kernelspec": {
      "name": "python3",
      "display_name": "Python 3"
    },
    "language_info": {
      "name": "python"
    }
  },
  "cells": [
    {
      "cell_type": "markdown",
      "metadata": {
        "id": "view-in-github",
        "colab_type": "text"
      },
      "source": [
        "<a href=\"https://colab.research.google.com/github/rashi789/rashi/blob/main/Untitled6.ipynb\" target=\"_parent\"><img src=\"https://colab.research.google.com/assets/colab-badge.svg\" alt=\"Open In Colab\"/></a>"
      ]
    },
    {
      "cell_type": "code",
      "execution_count": 14,
      "metadata": {
        "colab": {
          "base_uri": "https://localhost:8080/"
        },
        "id": "XJgsgiccJBHx",
        "outputId": "6ff505c7-1557-448e-fdbf-45ca1728f527"
      },
      "outputs": [
        {
          "output_type": "stream",
          "name": "stdout",
          "text": [
            " ihsar\n"
          ]
        }
      ],
      "source": [
        "str=\"rashi\"\n",
        "str1=\" \"\n",
        "x=len(str)\n",
        "while x>0:\n",
        "  x=x-1\n",
        "  str1+=str[x]\n",
        "print(str1)\n"
      ]
    },
    {
      "cell_type": "code",
      "source": [
        "str=\"my name is rashi\"\n",
        "str1=\" \"\n",
        "x=len(str)\n",
        "while x>0:\n",
        "  x=x-1\n",
        "  str1+=str[x]\n",
        "print(str1)"
      ],
      "metadata": {
        "colab": {
          "base_uri": "https://localhost:8080/"
        },
        "id": "Tv4ND4fVUSr3",
        "outputId": "c1f02138-403e-464a-a970-e36e7a012a6f"
      },
      "execution_count": 15,
      "outputs": [
        {
          "output_type": "stream",
          "name": "stdout",
          "text": [
            " ihsar si eman ym\n"
          ]
        }
      ]
    }
  ]
}