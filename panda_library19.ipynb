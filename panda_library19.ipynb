{
  "nbformat": 4,
  "nbformat_minor": 0,
  "metadata": {
    "colab": {
      "provenance": [],
      "authorship_tag": "ABX9TyNXfmN9cp/BiQQkGVRLD9MR",
      "include_colab_link": true
    },
    "kernelspec": {
      "name": "python3",
      "display_name": "Python 3"
    },
    "language_info": {
      "name": "python"
    }
  },
  "cells": [
    {
      "cell_type": "markdown",
      "metadata": {
        "id": "view-in-github",
        "colab_type": "text"
      },
      "source": [
        "<a href=\"https://colab.research.google.com/github/rashi789/rashi/blob/basicpython/panda_library19.ipynb\" target=\"_parent\"><img src=\"https://colab.research.google.com/assets/colab-badge.svg\" alt=\"Open In Colab\"/></a>"
      ]
    },
    {
      "cell_type": "code",
      "execution_count": 3,
      "metadata": {
        "colab": {
          "base_uri": "https://localhost:8080/"
        },
        "id": "UhfUy2xlQ462",
        "outputId": "4ff996a2-00b3-48f3-e9c2-e965112bd842"
      },
      "outputs": [
        {
          "output_type": "stream",
          "name": "stdout",
          "text": [
            "Requirement already satisfied: pandas in /usr/local/lib/python3.10/dist-packages (1.5.3)\n",
            "Requirement already satisfied: python-dateutil>=2.8.1 in /usr/local/lib/python3.10/dist-packages (from pandas) (2.8.2)\n",
            "Requirement already satisfied: pytz>=2020.1 in /usr/local/lib/python3.10/dist-packages (from pandas) (2023.4)\n",
            "Requirement already satisfied: numpy>=1.21.0 in /usr/local/lib/python3.10/dist-packages (from pandas) (1.23.5)\n",
            "Requirement already satisfied: six>=1.5 in /usr/local/lib/python3.10/dist-packages (from python-dateutil>=2.8.1->pandas) (1.16.0)\n"
          ]
        }
      ],
      "source": [
        "pip install pandas"
      ]
    },
    {
      "cell_type": "code",
      "source": [
        "# importing the modules\n",
        "from tabulate import tabulate\n",
        "import pandas as pd\n",
        "\n",
        "# creating a DataFrame\n",
        "dict = {'Name':['Martha', 'Tim', 'Rob', 'Georgia'],\n",
        "        'Maths':[87, 91, 97, 95],\n",
        "        'Science':[83, 99, 84, 76]}\n",
        "df = pd.DataFrame(dict)\n",
        "\n",
        "# displaying the DataFrame\n",
        "print(tabulate(df, headers = 'keys', tablefmt = 'psql'))"
      ],
      "metadata": {
        "colab": {
          "base_uri": "https://localhost:8080/"
        },
        "id": "RhajWJXPRJD0",
        "outputId": "14a7d05c-c957-42b6-8eee-426f6f8965cb"
      },
      "execution_count": 2,
      "outputs": [
        {
          "output_type": "stream",
          "name": "stdout",
          "text": [
            "+----+---------+---------+-----------+\n",
            "|    | Name    |   Maths |   Science |\n",
            "|----+---------+---------+-----------|\n",
            "|  0 | Martha  |      87 |        83 |\n",
            "|  1 | Tim     |      91 |        99 |\n",
            "|  2 | Rob     |      97 |        84 |\n",
            "|  3 | Georgia |      95 |        76 |\n",
            "+----+---------+---------+-----------+\n"
          ]
        }
      ]
    }
  ]
}