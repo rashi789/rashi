{
  "nbformat": 4,
  "nbformat_minor": 0,
  "metadata": {
    "colab": {
      "provenance": [],
      "authorship_tag": "ABX9TyP95R3kldfZs0hOdgMPRCRC",
      "include_colab_link": true
    },
    "kernelspec": {
      "name": "python3",
      "display_name": "Python 3"
    },
    "language_info": {
      "name": "python"
    }
  },
  "cells": [
    {
      "cell_type": "markdown",
      "metadata": {
        "id": "view-in-github",
        "colab_type": "text"
      },
      "source": [
        "<a href=\"https://colab.research.google.com/github/rashi789/rashi/blob/basicpython/mysql218.ipynb\" target=\"_parent\"><img src=\"https://colab.research.google.com/assets/colab-badge.svg\" alt=\"Open In Colab\"/></a>"
      ]
    },
    {
      "cell_type": "code",
      "execution_count": 48,
      "metadata": {
        "colab": {
          "base_uri": "https://localhost:8080/"
        },
        "id": "lCzMoWQAAb4G",
        "outputId": "1a288684-7a3d-4d75-c2aa-727aee283388"
      },
      "outputs": [
        {
          "output_type": "stream",
          "name": "stdout",
          "text": [
            "Reading package lists... Done\n",
            "Building dependency tree... Done\n",
            "Reading state information... Done\n",
            "mysql-server is already the newest version (8.0.36-0ubuntu0.22.04.1).\n",
            "0 upgraded, 0 newly installed, 0 to remove and 32 not upgraded.\n",
            " * Starting MySQL database server mysqld\n",
            "   ...done.\n",
            "Requirement already satisfied: mysql-connector-python in /usr/local/lib/python3.10/dist-packages (8.3.0)\n",
            " * /usr/bin/mysqladmin  Ver 8.0.36-0ubuntu0.22.04.1 for Linux on x86_64 ((Ubuntu))\n",
            "Copyright (c) 2000, 2024, Oracle and/or its affiliates.\n",
            "\n",
            "Oracle is a registered trademark of Oracle Corporation and/or its\n",
            "affiliates. Other names may be trademarks of their respective\n",
            "owners.\n",
            "\n",
            "Server version\t\t8.0.36-0ubuntu0.22.04.1\n",
            "Protocol version\t10\n",
            "Connection\t\tLocalhost via UNIX socket\n",
            "UNIX socket\t\t/var/run/mysqld/mysqld.sock\n",
            "Uptime:\t\t\t49 min 18 sec\n",
            "\n",
            "Threads: 2  Questions: 145  Slow queries: 0  Opens: 154  Flush tables: 3  Open tables: 73  Queries per second avg: 0.049\n"
          ]
        }
      ],
      "source": [
        "!apt-get -y install mysql-server\n",
        "!service mysql start\n",
        "!pip install mysql-connector-python\n",
        "!sudo service mysql status\n",
        "\n",
        "import mysql.connector\n",
        "\n",
        "# Create a connection to the MySQL server\n",
        "conn = mysql.connector.connect(user='root', password='root', unix_socket='/var/run/mysqld/mysqld.sock')\n",
        "# Create a cursor to interact with the MySQL server\n",
        "cursor = conn.cursor()\n",
        "# Create a new database named 'library'\n",
        "cursor.execute(\"CREATE DATABASE IF NOT EXISTS library\")\n",
        "\n",
        "# Switch to the 'library' database\n",
        "cursor.execute(\"USE library\")\n",
        "\n",
        "# Create the 'books' table\n",
        "cursor.execute('''\n",
        "CREATE TABLE IF NOT EXISTS books (\n",
        "    id INT AUTO_INCREMENT PRIMARY KEY,\n",
        "    title VARCHAR(255) NOT NULL,\n",
        "    author VARCHAR(255) NOT NULL,\n",
        "    year_published INT\n",
        ")\n",
        "''')\n",
        "\n",
        "# Always remember to close the cursor and connection when done\n",
        "cursor.close()\n",
        "conn.close()\n",
        "\n",
        "\n",
        "\n"
      ]
    },
    {
      "cell_type": "code",
      "source": [
        "import mysql.connector\n",
        "\n",
        "# Connect to the MySQL server and the 'library' database\n",
        "conn = mysql.connector.connect(user='root', password='root', unix_socket='/var/run/mysqld/mysqld.sock', database='library')\n",
        "cursor = conn.cursor()\n",
        "\n",
        "books_data = [\n",
        "    (\"To Kill a Mockingbird\", \"Harper Lee\", 1960),\n",
        "    (\"1984\", \"George Orwell\", 1949),\n",
        "    (\"The Great Gatsby\", \"F. Scott Fitzgerald\", 1925)\n",
        "]\n",
        "\n",
        "# Insert data using the cursor\n",
        "cursor.executemany('''\n",
        "INSERT INTO books (title, author, year_published) VALUES (%s, %s, %s)\n",
        "''', books_data)\n",
        "\n",
        "# Commit the changes\n",
        "conn.commit()\n",
        "\n",
        "# Close the cursor and connection\n",
        "cursor.close()\n",
        "conn.close()"
      ],
      "metadata": {
        "id": "EsNmvjDDNSPU"
      },
      "execution_count": 49,
      "outputs": []
    },
    {
      "cell_type": "code",
      "source": [
        "import mysql.connector\n",
        "\n",
        "# Connect to the MySQL server and the 'library' database\n",
        "conn = mysql.connector.connect(user='root', password='root',unix_socket='/var/run/mysqld/mysqld.sock', database='library')\n",
        "cursor = conn.cursor()\n",
        "\n",
        "# Execute the SELECT query\n",
        "cursor.execute(\"SELECT * FROM books\")\n",
        "\n",
        "# Fetch all the results\n",
        "records = cursor.fetchall()\n",
        "\n",
        "# Print the records\n",
        "for record in records:\n",
        "    print(record)\n",
        "\n",
        "# Close the cursor and connection\n",
        "cursor.close()\n",
        "conn.close()"
      ],
      "metadata": {
        "colab": {
          "base_uri": "https://localhost:8080/"
        },
        "id": "RrgUKFVhNkxT",
        "outputId": "17d404eb-26df-4b96-8c8d-6b58046b0cca"
      },
      "execution_count": 51,
      "outputs": [
        {
          "output_type": "stream",
          "name": "stdout",
          "text": [
            "(1, 'To Kill a Mockingbird', 'Harper Lee', 1960)\n",
            "(2, '1984', 'George Orwell', 1949)\n",
            "(3, 'The Great Gatsby', 'F. Scott Fitzgerald', 1925)\n"
          ]
        }
      ]
    },
    {
      "cell_type": "code",
      "source": [
        "import  sqlite3\n",
        "conn  =  sqlite3 . connect ( 'mydatabase.db' )\n",
        "cursor  =  conn.cursor ()\n",
        "#create the salesman table\n",
        "cursor.execute(\"CREATE TABLE salesman(salesman_id n(5), name char(30), city char(35), commission decimal(7,2));\")\n",
        "\n",
        "s_id = input('Salesman ID:')\n",
        "s_name = input('Name:')\n",
        "s_city = input('City:')\n",
        "s_commision = input('Commission:')\n",
        "cursor.execute(\"\"\"\n",
        "INSERT INTO salesman(salesman_id, name, city, commission)\n",
        "VALUES (?,?,?,?)\n",
        "\"\"\", (s_id, s_name, s_city, s_commision))\n",
        "conn.commit ()\n",
        "print ( 'Data entered successfully.' )\n",
        "conn . close ()\n",
        "if (conn):\n",
        "  conn.close()\n",
        "  print(\"\\nThe SQLite connection is closed.\")"
      ],
      "metadata": {
        "colab": {
          "base_uri": "https://localhost:8080/"
        },
        "id": "V7WOPXepOF8V",
        "outputId": "dc8e3110-3cc9-4695-9f37-d260e5d5f87e"
      },
      "execution_count": 52,
      "outputs": [
        {
          "output_type": "stream",
          "name": "stdout",
          "text": [
            "Salesman ID:1\n",
            "Name:rashi\n",
            "City:jaipur\n",
            "Commission:25\n",
            "Data entered successfully.\n",
            "\n",
            "The SQLite connection is closed.\n"
          ]
        }
      ]
    },
    {
      "cell_type": "code",
      "source": [
        "import  sqlite3\n",
        "conn  =  sqlite3 . connect ( 'mydatabase.db' )\n",
        "cursor  =  conn.cursor ()\n",
        "#create the salesman table\n",
        "cursor.execute(\"CREATE TABLE IF NOT EXISTS salesman(salesman_id n(5), name char(30), city char(35), commission decimal(7,2));\")\n",
        "for i in range(2):\n",
        "\n",
        " s_id = input('Salesman ID:')\n",
        " s_name = input('Name:')\n",
        " s_city = input('City:')\n",
        " s_commision = input('Commission:')\n",
        "cursor.execute(\"\"\"\n",
        "INSERT INTO salesman(salesman_id, name, city, commission)\n",
        "VALUES (?,?,?,?)\n",
        "\"\"\", (s_id, s_name, s_city, s_commision))\n",
        "conn.commit ()\n",
        "print ( 'Data entered successfully.' )\n",
        "conn . close ()\n",
        "if (conn):\n",
        "  conn.close()\n",
        "  print(\"\\nThe SQLite connection is closed.\")"
      ],
      "metadata": {
        "colab": {
          "base_uri": "https://localhost:8080/"
        },
        "id": "ppRicF1lOzvS",
        "outputId": "d0adb456-1bbe-450c-ac8f-96068f081131"
      },
      "execution_count": 56,
      "outputs": [
        {
          "output_type": "stream",
          "name": "stdout",
          "text": [
            "Salesman ID:2\n",
            "Name:RASHI\n",
            "City:JAIPUR\n",
            "Commission:30\n",
            "Salesman ID:3\n",
            "Name:RIYA\n",
            "City:JAIPUR\n",
            "Commission:40\n",
            "Data entered successfully.\n",
            "\n",
            "The SQLite connection is closed.\n"
          ]
        }
      ]
    }
  ]
}