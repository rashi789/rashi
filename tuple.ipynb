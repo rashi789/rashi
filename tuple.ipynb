{
  "nbformat": 4,
  "nbformat_minor": 0,
  "metadata": {
    "colab": {
      "provenance": [],
      "authorship_tag": "ABX9TyNnnhuURAB8LNTsA2leVs04",
      "include_colab_link": true
    },
    "kernelspec": {
      "name": "python3",
      "display_name": "Python 3"
    },
    "language_info": {
      "name": "python"
    }
  },
  "cells": [
    {
      "cell_type": "markdown",
      "metadata": {
        "id": "view-in-github",
        "colab_type": "text"
      },
      "source": [
        "<a href=\"https://colab.research.google.com/github/rashi789/rashi/blob/main/Untitled11.ipynb\" target=\"_parent\"><img src=\"https://colab.research.google.com/assets/colab-badge.svg\" alt=\"Open In Colab\"/></a>"
      ]
    },
    {
      "cell_type": "code",
      "execution_count": 1,
      "metadata": {
        "colab": {
          "base_uri": "https://localhost:8080/"
        },
        "id": "q-OoWozMm-MU",
        "outputId": "49d0064b-7622-4089-fb6c-97e14bdd3c3a"
      },
      "outputs": [
        {
          "output_type": "stream",
          "name": "stdout",
          "text": [
            "('aman', 'arti', 'arju')\n"
          ]
        }
      ],
      "source": [
        "tuple=(\"aman\",\"arti\",\"arju\")\n",
        "print(tuple)"
      ]
    },
    {
      "cell_type": "code",
      "source": [
        "tuple=(\"aman\",\"arti\",\"anu\")\n",
        "tuple.index(\"aman\")\n"
      ],
      "metadata": {
        "colab": {
          "base_uri": "https://localhost:8080/"
        },
        "id": "pWz3Fhu2nyOL",
        "outputId": "ca9ec9d6-aabe-4be1-ac06-dab712b04422"
      },
      "execution_count": 7,
      "outputs": [
        {
          "output_type": "execute_result",
          "data": {
            "text/plain": [
              "0"
            ]
          },
          "metadata": {},
          "execution_count": 7
        }
      ]
    },
    {
      "cell_type": "code",
      "source": [
        "tuple1=(\"anu\",\"priya\",\"shreya\")\n",
        "tuple2=(\"arju\",\"neha\",\"manu\")\n",
        "set1=set(tuple2)\n",
        "set2=set(tuple1)\n",
        "set1.discard(tuple2)\n",
        "print(set1)\n",
        "\n"
      ],
      "metadata": {
        "colab": {
          "base_uri": "https://localhost:8080/"
        },
        "id": "8Ia0m5WIpvEW",
        "outputId": "914e7d15-8d74-4319-8f49-54935f26d0e9"
      },
      "execution_count": 10,
      "outputs": [
        {
          "output_type": "stream",
          "name": "stdout",
          "text": [
            "{'arju', 'neha', 'manu'}\n"
          ]
        }
      ]
    },
    {
      "cell_type": "code",
      "source": [
        "fruits=((\"mango\",\"guava\",\"grapes\",\"mango\"))\n",
        "res=[]\n",
        "for j in range(len(fruits)):\n",
        "  my_fruit=fruits[j]\n",
        "  count=0\n",
        "  for i in range(len(fruits)):\n",
        "      if i==j:\n",
        "       continue\n",
        "      if fruits[i]==fruits[j]:\n",
        "        count+=1\n",
        "  if count>0:\n",
        "      if fruits[j] not in res:\n",
        "       res.append(my_fruit)\n",
        "print(res)"
      ],
      "metadata": {
        "colab": {
          "base_uri": "https://localhost:8080/"
        },
        "id": "yhKd7AaosFMx",
        "outputId": "a7b871f0-78e1-4dfb-b8ed-91ea296c9dca"
      },
      "execution_count": 30,
      "outputs": [
        {
          "output_type": "stream",
          "name": "stdout",
          "text": [
            "['mango']\n"
          ]
        }
      ]
    }
  ]
}
