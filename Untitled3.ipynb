{
  "nbformat": 4,
  "nbformat_minor": 0,
  "metadata": {
    "colab": {
      "provenance": [],
      "authorship_tag": "ABX9TyOPB9FZXGb0UvNNVOic/EQ9",
      "include_colab_link": true
    },
    "kernelspec": {
      "name": "python3",
      "display_name": "Python 3"
    },
    "language_info": {
      "name": "python"
    }
  },
  "cells": [
    {
      "cell_type": "markdown",
      "metadata": {
        "id": "view-in-github",
        "colab_type": "text"
      },
      "source": [
        "<a href=\"https://colab.research.google.com/github/rashi789/rashi/blob/main/Untitled3.ipynb\" target=\"_parent\"><img src=\"https://colab.research.google.com/assets/colab-badge.svg\" alt=\"Open In Colab\"/></a>"
      ]
    },
    {
      "cell_type": "code",
      "execution_count": 4,
      "metadata": {
        "colab": {
          "base_uri": "https://localhost:8080/"
        },
        "id": "tUwOMmU0xVxH",
        "outputId": "dd30b77f-f4dd-4c14-b7dc-076915e7113d"
      },
      "outputs": [
        {
          "output_type": "stream",
          "name": "stdout",
          "text": [
            "enter value5\n",
            "enter value6\n",
            "enter value8\n",
            "c is grater than a&b\n"
          ]
        }
      ],
      "source": [
        "a=input(\"enter value\")\n",
        "a=int(a)\n",
        "b=input(\"enter value\")\n",
        "b=int(b)\n",
        "c=input(\"enter value\")\n",
        "c=int(c)\n",
        "if a>b:\n",
        "  print('a is greater than b')\n",
        "if b>c:\n",
        "    print('b is greater than c')\n",
        "else:\n",
        "      print('c is grater than a&b')"
      ]
    },
    {
      "cell_type": "code",
      "source": [
        " a=input(\"enter a value\")\n",
        " a=int(a)\n",
        " if a%3==0:\n",
        "  print(\"a is divisble by 3\")\n",
        " else:\n",
        "  print(\"a is not divisble by 3\")\n",
        "\n",
        "\n"
      ],
      "metadata": {
        "colab": {
          "base_uri": "https://localhost:8080/"
        },
        "id": "zBL2pDqMzoJi",
        "outputId": "8f828f96-53c3-4972-bc1d-6900e44aa054"
      },
      "execution_count": 13,
      "outputs": [
        {
          "output_type": "stream",
          "name": "stdout",
          "text": [
            "enter a value6\n",
            "a is divisble by 3\n"
          ]
        }
      ]
    },
    {
      "cell_type": "code",
      "source": [
        "a=input(\"enter a value\")\n",
        "a=int(a)\n",
        "b=input(\"enter a value\")\n",
        "b=int(b)\n",
        "if a>b:\n",
        "  print(\"a is greater than b\")\n",
        "elif a<b:\n",
        "  print(\"a is less than b\")\n",
        "else:\n",
        "  print(\"a is equal to b\")\n"
      ],
      "metadata": {
        "colab": {
          "base_uri": "https://localhost:8080/"
        },
        "id": "Du1PqTLq4yQy",
        "outputId": "4b1446aa-9a15-4526-c705-c5540bb30588"
      },
      "execution_count": 29,
      "outputs": [
        {
          "output_type": "stream",
          "name": "stdout",
          "text": [
            "enter a value5\n",
            "enter a value4\n",
            "a is greater than b\n"
          ]
        }
      ]
    },
    {
      "cell_type": "code",
      "source": [],
      "metadata": {
        "id": "9_qGBZBfy5__"
      },
      "execution_count": null,
      "outputs": []
    }
  ]
}