{
  "nbformat": 4,
  "nbformat_minor": 0,
  "metadata": {
    "colab": {
      "provenance": [],
      "authorship_tag": "ABX9TyN+z99kfh+it/2UdAqxAiAR",
      "include_colab_link": true
    },
    "kernelspec": {
      "name": "python3",
      "display_name": "Python 3"
    },
    "language_info": {
      "name": "python"
    }
  },
  "cells": [
    {
      "cell_type": "markdown",
      "metadata": {
        "id": "view-in-github",
        "colab_type": "text"
      },
      "source": [
        "<a href=\"https://colab.research.google.com/github/rashi789/rashi/blob/main/Untitled3.ipynb\" target=\"_parent\"><img src=\"https://colab.research.google.com/assets/colab-badge.svg\" alt=\"Open In Colab\"/></a>"
      ]
    },
    {
      "cell_type": "code",
      "execution_count": 4,
      "metadata": {
        "colab": {
          "base_uri": "https://localhost:8080/"
        },
        "id": "tUwOMmU0xVxH",
        "outputId": "dd30b77f-f4dd-4c14-b7dc-076915e7113d"
      },
      "outputs": [
        {
          "output_type": "stream",
          "name": "stdout",
          "text": [
            "enter value5\n",
            "enter value6\n",
            "enter value8\n",
            "c is grater than a&b\n"
          ]
        }
      ],
      "source": [
        "a=input(\"enter value\")\n",
        "a=int(a)\n",
        "b=input(\"enter value\")\n",
        "b=int(b)\n",
        "c=input(\"enter value\")\n",
        "c=int(c)\n",
        "if a>b:\n",
        "  print('a is greater than b')\n",
        "if b>c:\n",
        "    print('b is greater than c')\n",
        "else:\n",
        "      print('c is grater than a&b')"
      ]
    },
    {
      "cell_type": "code",
      "source": [],
      "metadata": {
        "id": "zBL2pDqMzoJi"
      },
      "execution_count": null,
      "outputs": []
    },
    {
      "cell_type": "code",
      "source": [],
      "metadata": {
        "id": "9_qGBZBfy5__"
      },
      "execution_count": null,
      "outputs": []
    }
  ]
}