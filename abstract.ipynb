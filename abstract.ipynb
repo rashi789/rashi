{
  "nbformat": 4,
  "nbformat_minor": 0,
  "metadata": {
    "colab": {
      "provenance": [],
      "authorship_tag": "ABX9TyPbsH1lYDoafnlRpRr0Uz26",
      "include_colab_link": true
    },
    "kernelspec": {
      "name": "python3",
      "display_name": "Python 3"
    },
    "language_info": {
      "name": "python"
    }
  },
  "cells": [
    {
      "cell_type": "markdown",
      "metadata": {
        "id": "view-in-github",
        "colab_type": "text"
      },
      "source": [
        "<a href=\"https://colab.research.google.com/github/rashi789/rashi/blob/basicpython/abstract.ipynb\" target=\"_parent\"><img src=\"https://colab.research.google.com/assets/colab-badge.svg\" alt=\"Open In Colab\"/></a>"
      ]
    },
    {
      "cell_type": "code",
      "execution_count": 7,
      "metadata": {
        "colab": {
          "base_uri": "https://localhost:8080/"
        },
        "id": "CdT7vXlyOZLM",
        "outputId": "9c2096e0-fa53-4e1c-9be7-54ca707eccfb"
      },
      "outputs": [
        {
          "output_type": "stream",
          "name": "stdout",
          "text": [
            "Ninja H2R\n"
          ]
        }
      ],
      "source": [
        "class bike:\n",
        "  def __init__(self,name,gear):\n",
        "    self.name=name\n",
        "    self.gear=gear\n",
        "\n",
        "bike1=bike(\"Ninja H2R\",0)\n",
        "print(bike1.name)"
      ]
    },
    {
      "cell_type": "code",
      "source": [
        "class vehical:\n",
        "  def __init__(self,name,speed):\n",
        "    self.name=name\n",
        "    self.speed=speed\n",
        "veh1=vehical(\"Ninja\",440)\n",
        "class bike(vehical):\n",
        "     def __init__(self,milage,color):\n",
        "       self.milage=milage\n",
        "       self.color=color\n",
        "bike1=bike(\"80\",\"black\")\n",
        "print(veh1.name)\n",
        "print(bike1.milage)\n",
        "print(bike1.color)"
      ],
      "metadata": {
        "colab": {
          "base_uri": "https://localhost:8080/"
        },
        "id": "dJmT3XZJQeqy",
        "outputId": "d1564b1f-a13b-410b-ffee-46c7ca00af86"
      },
      "execution_count": 31,
      "outputs": [
        {
          "output_type": "stream",
          "name": "stdout",
          "text": [
            "Ninja\n",
            "80\n",
            "black\n"
          ]
        }
      ]
    },
    {
      "cell_type": "code",
      "source": [
        "from abc import ABC, abstractmethod\n",
        "\n",
        "class vehicle (ABC):\n",
        "  @abstractmethod\n",
        "  def types(self):\n",
        "    print(\"3 types\")\n",
        "\n",
        "class bike(vehicle):\n",
        "   def types(self):\n",
        "    print(\"one of the three types\")\n",
        "\n",
        "x=bike()\n",
        "x.types()\n",
        "\n"
      ],
      "metadata": {
        "colab": {
          "base_uri": "https://localhost:8080/"
        },
        "id": "oXVbRJCiVHmf",
        "outputId": "84e64999-d009-473d-9ffe-3cb48965f152"
      },
      "execution_count": 44,
      "outputs": [
        {
          "output_type": "stream",
          "name": "stdout",
          "text": [
            "one of the three types\n"
          ]
        }
      ]
    },
    {
      "cell_type": "code",
      "source": [],
      "metadata": {
        "id": "FH12BlU-ZqSa"
      },
      "execution_count": null,
      "outputs": []
    }
  ]
}