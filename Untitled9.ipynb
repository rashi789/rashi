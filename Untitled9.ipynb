{
  "nbformat": 4,
  "nbformat_minor": 0,
  "metadata": {
    "colab": {
      "provenance": [],
      "authorship_tag": "ABX9TyNcSi/ouqGhg8hb5ZKz20YZ",
      "include_colab_link": true
    },
    "kernelspec": {
      "name": "python3",
      "display_name": "Python 3"
    },
    "language_info": {
      "name": "python"
    }
  },
  "cells": [
    {
      "cell_type": "markdown",
      "metadata": {
        "id": "view-in-github",
        "colab_type": "text"
      },
      "source": [
        "<a href=\"https://colab.research.google.com/github/rashi789/rashi/blob/main/Untitled9.ipynb\" target=\"_parent\"><img src=\"https://colab.research.google.com/assets/colab-badge.svg\" alt=\"Open In Colab\"/></a>"
      ]
    },
    {
      "cell_type": "code",
      "execution_count": null,
      "metadata": {
        "id": "7-v3AL3J2Tkb"
      },
      "outputs": [],
      "source": [
        "a=input(\"this is tempreture in cesius or fahrenheit(c/f):\")\n",
        "temp=float(input(\"enter the tempreture:\"))\n",
        "if a==\"c\":\n",
        "  temp=round((9*temp)/15+32,1)\n",
        "  print(f\"tempreture is fahrenheit is:{tem}f\")\n",
        "elif a==\"f\":\n",
        "    temp=round(f\"\")"
      ]
    },
    {
      "cell_type": "code",
      "source": [
        "str1=\"mynameis\"\n",
        "slice=str1[2:5]\n",
        "print(slice)\n",
        "\n"
      ],
      "metadata": {
        "colab": {
          "base_uri": "https://localhost:8080/"
        },
        "id": "KGeoNDya6NcO",
        "outputId": "7b4f8795-9544-4e17-932f-655691729e8c"
      },
      "execution_count": 1,
      "outputs": [
        {
          "output_type": "stream",
          "name": "stdout",
          "text": [
            "nam\n"
          ]
        }
      ]
    },
    {
      "cell_type": "code",
      "source": [
        "str1=\"mynameis\"\n",
        "upr=str1.upper()\n",
        "print(upr)"
      ],
      "metadata": {
        "colab": {
          "base_uri": "https://localhost:8080/"
        },
        "id": "xAMIvszG8dE8",
        "outputId": "5cd879eb-40d4-46c3-be62-75d943c76adc"
      },
      "execution_count": 2,
      "outputs": [
        {
          "output_type": "stream",
          "name": "stdout",
          "text": [
            "MYNAMEIS\n"
          ]
        }
      ]
    },
    {
      "cell_type": "code",
      "source": [
        "a=input(\"enter the element\")\n",
        "str1=a.strip()\n",
        "print(str1)\n"
      ],
      "metadata": {
        "colab": {
          "base_uri": "https://localhost:8080/"
        },
        "id": "1SdUk0dF9lUJ",
        "outputId": "9be07f30-4b9f-4990-cb89-de696a066d37"
      },
      "execution_count": 3,
      "outputs": [
        {
          "output_type": "stream",
          "name": "stdout",
          "text": [
            "enter the element4\n",
            "4\n"
          ]
        }
      ]
    },
    {
      "cell_type": "code",
      "source": [
        "str1=\"rashi\"\n",
        "a=(str1.replace(\"rashi\",\"jain\"))\n",
        "print(a)"
      ],
      "metadata": {
        "colab": {
          "base_uri": "https://localhost:8080/"
        },
        "id": "5QKmY00W-Q0v",
        "outputId": "34dfc346-dbb6-4c9c-90f8-2cdde960737f"
      },
      "execution_count": 4,
      "outputs": [
        {
          "output_type": "stream",
          "name": "stdout",
          "text": [
            "jain\n"
          ]
        }
      ]
    },
    {
      "cell_type": "code",
      "source": [
        "str1"
      ],
      "metadata": {
        "id": "U0RXVuE__msl"
      },
      "execution_count": null,
      "outputs": []
    }
  ]
}