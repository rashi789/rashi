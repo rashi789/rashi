{
  "nbformat": 4,
  "nbformat_minor": 0,
  "metadata": {
    "colab": {
      "provenance": [],
      "authorship_tag": "ABX9TyNJfpxNnelyohXhcQ6/Riw3",
      "include_colab_link": true
    },
    "kernelspec": {
      "name": "python3",
      "display_name": "Python 3"
    },
    "language_info": {
      "name": "python"
    }
  },
  "cells": [
    {
      "cell_type": "markdown",
      "metadata": {
        "id": "view-in-github",
        "colab_type": "text"
      },
      "source": [
        "<a href=\"https://colab.research.google.com/github/rashi789/rashi/blob/main/file.ipynb\" target=\"_parent\"><img src=\"https://colab.research.google.com/assets/colab-badge.svg\" alt=\"Open In Colab\"/></a>"
      ]
    },
    {
      "cell_type": "code",
      "execution_count": 3,
      "metadata": {
        "colab": {
          "base_uri": "https://localhost:8080/"
        },
        "id": "xqcWB3dRhJ3H",
        "outputId": "645001c9-0fb4-4406-cf61-1525f975d809"
      },
      "outputs": [
        {
          "output_type": "stream",
          "name": "stdout",
          "text": [
            "hgjhmhmn \n"
          ]
        }
      ],
      "source": [
        "s1=open(\"doc.txt\",\"r\")\n",
        "print(s1.read())"
      ]
    },
    {
      "cell_type": "code",
      "source": [
        "s1=open(\"doc.txt\",\"r\")\n",
        "print(s1.read())"
      ],
      "metadata": {
        "colab": {
          "base_uri": "https://localhost:8080/"
        },
        "id": "wKZV0V1VjRn-",
        "outputId": "7b33a9ba-717e-4996-f938-f217c28dcea9"
      },
      "execution_count": 4,
      "outputs": [
        {
          "output_type": "stream",
          "name": "stdout",
          "text": [
            "hgjhmhmn \n",
            "i am rashi\n"
          ]
        }
      ]
    },
    {
      "cell_type": "code",
      "source": [
        "f=open(\"doc.txt\",\"w\")\n",
        "f.write(\"doc.txt\")\n",
        "f.close()\n",
        "print(f)"
      ],
      "metadata": {
        "colab": {
          "base_uri": "https://localhost:8080/"
        },
        "id": "C5d53evEkedL",
        "outputId": "98c9117d-0ea6-4c68-ccc7-1643eaea950d"
      },
      "execution_count": 14,
      "outputs": [
        {
          "output_type": "stream",
          "name": "stdout",
          "text": [
            "<_io.TextIOWrapper name='doc.txt' mode='w' encoding='UTF-8'>\n"
          ]
        }
      ]
    },
    {
      "cell_type": "code",
      "source": [
        "s1=open(\"rashi.txt\",\"r\")\n",
        "print(s1.read())\n"
      ],
      "metadata": {
        "colab": {
          "base_uri": "https://localhost:8080/"
        },
        "id": "7QpihBQ6nHxA",
        "outputId": "462360b1-0fb5-46d7-b006-a12ec1a4d017"
      },
      "execution_count": 30,
      "outputs": [
        {
          "output_type": "stream",
          "name": "stdout",
          "text": [
            "\n"
          ]
        }
      ]
    },
    {
      "cell_type": "code",
      "source": [],
      "metadata": {
        "id": "y60iHb7FwOMJ"
      },
      "execution_count": null,
      "outputs": []
    }
  ]
}