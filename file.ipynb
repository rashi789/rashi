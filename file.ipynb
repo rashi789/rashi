{
  "nbformat": 4,
  "nbformat_minor": 0,
  "metadata": {
    "colab": {
      "provenance": [],
      "authorship_tag": "ABX9TyOQ10s/xETRp1KnaBVk50Li",
      "include_colab_link": true
    },
    "kernelspec": {
      "name": "python3",
      "display_name": "Python 3"
    },
    "language_info": {
      "name": "python"
    }
  },
  "cells": [
    {
      "cell_type": "markdown",
      "metadata": {
        "id": "view-in-github",
        "colab_type": "text"
      },
      "source": [
        "<a href=\"https://colab.research.google.com/github/rashi789/rashi/blob/main/file.ipynb\" target=\"_parent\"><img src=\"https://colab.research.google.com/assets/colab-badge.svg\" alt=\"Open In Colab\"/></a>"
      ]
    },
    {
      "cell_type": "code",
      "execution_count": 3,
      "metadata": {
        "colab": {
          "base_uri": "https://localhost:8080/"
        },
        "id": "xqcWB3dRhJ3H",
        "outputId": "645001c9-0fb4-4406-cf61-1525f975d809"
      },
      "outputs": [
        {
          "output_type": "stream",
          "name": "stdout",
          "text": [
            "hgjhmhmn \n"
          ]
        }
      ],
      "source": [
        "s1=open(\"doc.txt\",\"r\")\n",
        "print(s1.read())"
      ]
    },
    {
      "cell_type": "code",
      "source": [
        "s1=open(\"doc.txt\",\"r\")\n",
        "print(s1.read())"
      ],
      "metadata": {
        "colab": {
          "base_uri": "https://localhost:8080/"
        },
        "id": "wKZV0V1VjRn-",
        "outputId": "7b33a9ba-717e-4996-f938-f217c28dcea9"
      },
      "execution_count": 4,
      "outputs": [
        {
          "output_type": "stream",
          "name": "stdout",
          "text": [
            "hgjhmhmn \n",
            "i am rashi\n"
          ]
        }
      ]
    },
    {
      "cell_type": "code",
      "source": [
        "f=open(\"doc.txt\",\"w\")\n",
        "f.write(\"doc.txt\")\n",
        "f.close()\n",
        "print(f)"
      ],
      "metadata": {
        "colab": {
          "base_uri": "https://localhost:8080/"
        },
        "id": "C5d53evEkedL",
        "outputId": "98c9117d-0ea6-4c68-ccc7-1643eaea950d"
      },
      "execution_count": 14,
      "outputs": [
        {
          "output_type": "stream",
          "name": "stdout",
          "text": [
            "<_io.TextIOWrapper name='doc.txt' mode='w' encoding='UTF-8'>\n"
          ]
        }
      ]
    },
    {
      "cell_type": "code",
      "source": [
        "s1=open(\"doc.txt\",\"r\")\n",
        "print(s1.read())\n"
      ],
      "metadata": {
        "colab": {
          "base_uri": "https://localhost:8080/"
        },
        "id": "7QpihBQ6nHxA",
        "outputId": "50fb6c15-c5c1-4112-d857-3da765ee8caf"
      },
      "execution_count": 33,
      "outputs": [
        {
          "output_type": "stream",
          "name": "stdout",
          "text": [
            "hgjhmhmn \n",
            "i am rashi\n",
            "i am bca third year student\n"
          ]
        }
      ]
    },
    {
      "cell_type": "code",
      "source": [
        "s1=open(\"doc.txt\",\"a\")\n",
        "s1.write(\"/n new content added!\")\n",
        "s1.close()\n",
        "s1=open(\"doc.txt\",\"r\")\n",
        "print(s1.read())"
      ],
      "metadata": {
        "colab": {
          "base_uri": "https://localhost:8080/"
        },
        "id": "y60iHb7FwOMJ",
        "outputId": "a1564185-212b-4cb1-89d5-14184fa9ea1d"
      },
      "execution_count": 37,
      "outputs": [
        {
          "output_type": "stream",
          "name": "stdout",
          "text": [
            "hgjhmhmn \n",
            "i am rashi\n",
            "i am bca third year student/n new content added!/n new content added!/n new content added!/n new content added!\n"
          ]
        }
      ]
    },
    {
      "cell_type": "code",
      "source": [
        "s1=open(\"doc.txt\",\"r\")\n",
        "for x in s1:\n",
        "  print(x)"
      ],
      "metadata": {
        "colab": {
          "base_uri": "https://localhost:8080/"
        },
        "id": "TxO5eLnYy08v",
        "outputId": "3483c183-de95-4541-fba9-c1053663395c"
      },
      "execution_count": 38,
      "outputs": [
        {
          "output_type": "stream",
          "name": "stdout",
          "text": [
            "hgjhmhmn \n",
            "\n",
            "i am rashi\n",
            "\n",
            "i am bca third year student/n new content added!/n new content added!/n new content added!/n new content added!\n"
          ]
        }
      ]
    },
    {
      "cell_type": "code",
      "source": [
        "s1=open(\"doc.txt\",\"r\")\n",
        "for x in s1.readlines():\n",
        "  print(x)"
      ],
      "metadata": {
        "colab": {
          "base_uri": "https://localhost:8080/"
        },
        "id": "ipX1DndczHuz",
        "outputId": "6edf275b-ef93-46ed-dfc2-27422fa9815b"
      },
      "execution_count": 40,
      "outputs": [
        {
          "output_type": "stream",
          "name": "stdout",
          "text": [
            "hgjhmhmn \n",
            "\n",
            "i am rashi\n",
            "\n",
            "i am bca third year student/n new content added!/n new content added!/n new content added!/n new content added!\n"
          ]
        }
      ]
    }
  ]
}